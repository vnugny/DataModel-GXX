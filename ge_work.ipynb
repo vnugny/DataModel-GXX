{
 "cells": [
  {
   "cell_type": "code",
   "execution_count": 1,
   "id": "04658c1f-3683-4635-971e-b80f8bc9129d",
   "metadata": {},
   "outputs": [],
   "source": [
    "import great_expectations as gx"
   ]
  },
  {
   "cell_type": "code",
   "execution_count": 2,
   "id": "1fc404eb-6add-4601-93b5-66fcc1045905",
   "metadata": {},
   "outputs": [
    {
     "name": "stdout",
     "output_type": "stream",
     "text": [
      "1.3.14\n"
     ]
    }
   ],
   "source": [
    "print(gx.__version__)"
   ]
  },
  {
   "cell_type": "code",
   "execution_count": 3,
   "id": "8bbd02af-3929-4dc7-b0ed-93aa6a89a067",
   "metadata": {},
   "outputs": [],
   "source": [
    "import os"
   ]
  },
  {
   "cell_type": "code",
   "execution_count": 4,
   "id": "7db81848-2533-412e-902c-42fdba0370f4",
   "metadata": {},
   "outputs": [],
   "source": [
    "import json"
   ]
  },
  {
   "cell_type": "code",
   "execution_count": 5,
   "id": "3c366b54-9122-4081-8561-3a65a19dce9a",
   "metadata": {},
   "outputs": [],
   "source": [
    "current_directory = os.getcwd()"
   ]
  },
  {
   "cell_type": "code",
   "execution_count": 6,
   "id": "27a1a470-de23-4872-b577-c4bbe39bd28f",
   "metadata": {},
   "outputs": [
    {
     "name": "stdout",
     "output_type": "stream",
     "text": [
      "/home/vkurella9\n"
     ]
    }
   ],
   "source": [
    "print(current_directory)"
   ]
  },
  {
   "cell_type": "code",
   "execution_count": 7,
   "id": "611c03e9-f32c-4462-8978-791b29310025",
   "metadata": {},
   "outputs": [
    {
     "name": "stdout",
     "output_type": "stream",
     "text": [
      "['.bashrc', '.bash_history', 'Classes.ipynb', 'ge_cust_data_expectations.json', 'ge_executions.py', '.profile', 'Untitled1.ipynb', 'Untitled.ipynb', '.motd_shown', 'ge_work.ipynb', '.zshrc', '.sudo_as_admin_successful', 'sample_data.txt', 'ge_add_suite_to_context.py', '.python_history', '.bash_logout']\n"
     ]
    }
   ],
   "source": [
    "import os\n",
    "\n",
    "files = [f for f in os.listdir('.') if os.path.isfile(f)]\n",
    "print(files)"
   ]
  },
  {
   "cell_type": "code",
   "execution_count": 8,
   "id": "9c1b67de-b6d4-40ea-9620-a69988ca821d",
   "metadata": {},
   "outputs": [],
   "source": [
    "from great_expectations.data_context import EphemeralDataContext"
   ]
  },
  {
   "cell_type": "code",
   "execution_count": 9,
   "id": "103e8cc1-58a1-4544-b98e-9816643ee84b",
   "metadata": {},
   "outputs": [],
   "source": [
    "from great_expectations.data_context.types.base import DataContextConfig"
   ]
  },
  {
   "cell_type": "code",
   "execution_count": 10,
   "id": "7fa6edcd-81f0-4519-99e1-66b314e1aa6b",
   "metadata": {},
   "outputs": [],
   "source": [
    "from great_expectations.expectations.expectation_configuration import ExpectationConfiguration"
   ]
  },
  {
   "cell_type": "code",
   "execution_count": 11,
   "id": "3addb1c2-5d51-4697-b540-36402df354f2",
   "metadata": {},
   "outputs": [],
   "source": [
    "from great_expectations.core import ExpectationSuite"
   ]
  },
  {
   "cell_type": "code",
   "execution_count": 12,
   "id": "7ba54e49-c1f0-41df-ba79-15742e55eb53",
   "metadata": {},
   "outputs": [
    {
     "name": "stdout",
     "output_type": "stream",
     "text": [
      "<class 'great_expectations.core.expectation_suite.ExpectationSuite'>\n"
     ]
    }
   ],
   "source": [
    "print(ExpectationSuite)"
   ]
  },
  {
   "cell_type": "code",
   "execution_count": 13,
   "id": "d0172fae-a530-4b62-8fb3-70322dbc7b04",
   "metadata": {},
   "outputs": [
    {
     "name": "stdout",
     "output_type": "stream",
     "text": [
      "Help on class ExpectationSuite in module great_expectations.core.expectation_suite:\n",
      "\n",
      "class ExpectationSuite(great_expectations.types.SerializableDictDot)\n",
      " |  ExpectationSuite(name: 'Optional[str]' = None, expectations: 'Optional[Sequence[Union[dict, ExpectationConfiguration, Expectation]]]' = None, suite_parameters: 'Optional[dict]' = None, meta: 'Optional[dict]' = None, notes: 'str | list[str] | None' = None, id: 'Optional[str]' = None) -> 'None'\n",
      " |\n",
      " |  --Public API--Set-like collection of Expectations.\n",
      " |\n",
      " |  Args:\n",
      " |      name: Name of the Expectation Suite\n",
      " |      expectations: Expectation Configurations to associate with this Expectation Suite.\n",
      " |      suite_parameters: Suite parameters to be substituted when evaluating Expectations.\n",
      " |      meta: Metadata related to the suite.\n",
      " |      id: Great Expectations Cloud id for this Expectation Suite.\n",
      " |\n",
      " |  Method resolution order:\n",
      " |      ExpectationSuite\n",
      " |      great_expectations.types.SerializableDictDot\n",
      " |      great_expectations.types.DictDot\n",
      " |      builtins.object\n",
      " |\n",
      " |  Methods defined here:\n",
      " |\n",
      " |  __deepcopy__(self, memo: 'dict')\n",
      " |\n",
      " |  __eq__(self, other)\n",
      " |      ExpectationSuite equality ignores instance identity, relying only on properties.\n",
      " |\n",
      " |  __init__(self, name: 'Optional[str]' = None, expectations: 'Optional[Sequence[Union[dict, ExpectationConfiguration, Expectation]]]' = None, suite_parameters: 'Optional[dict]' = None, meta: 'Optional[dict]' = None, notes: 'str | list[str] | None' = None, id: 'Optional[str]' = None) -> 'None'\n",
      " |      Initialize self.  See help(type(self)) for accurate signature.\n",
      " |\n",
      " |  __ne__(self, other)\n",
      " |      Return self!=value.\n",
      " |\n",
      " |  __repr__(self)\n",
      " |      Return repr(self).\n",
      " |\n",
      " |  __str__(self)\n",
      " |      Return str(self).\n",
      " |\n",
      " |  add_expectation(self, expectation: '_TExpectation') -> '_TExpectation'\n",
      " |      --Public API--Add an Expectation to the collection.\n",
      " |\n",
      " |  add_expectation_configuration(self, expectation_configuration: 'ExpectationConfiguration', match_type: 'str' = 'domain', overwrite_existing: 'bool' = True) -> 'ExpectationConfiguration'\n",
      " |      Upsert specified ExpectationConfiguration into this ExpectationSuite.\n",
      " |\n",
      " |      Args:\n",
      " |          expectation_configuration: The ExpectationConfiguration to add or update.\n",
      " |          match_type: The criteria used to determine whether the Suite already has an ExpectationConfiguration\n",
      " |              and so whether we should add or replace.\n",
      " |          overwrite_existing: If the expectation already exists, this will overwrite if True and raise an error if\n",
      " |              False.\n",
      " |\n",
      " |      Returns:\n",
      " |          The ExpectationConfiguration to add or replace.\n",
      " |\n",
      " |      Raises:\n",
      " |          ValueError: More than one match\n",
      " |          DataContextError: One match if overwrite_existing = False\n",
      " |\n",
      " |      # noqa: DAR402 # FIXME CoP\n",
      " |\n",
      " |  add_expectation_configurations(self, expectation_configurations: 'List[ExpectationConfiguration]', match_type: 'str' = 'domain', overwrite_existing: 'bool' = True) -> 'List[ExpectationConfiguration]'\n",
      " |      Upsert a list of ExpectationConfigurations into this ExpectationSuite.\n",
      " |\n",
      " |      Args:\n",
      " |          expectation_configurations: The List of candidate new/modifed \"ExpectationConfiguration\" objects for Suite.\n",
      " |          match_type: The criteria used to determine whether the Suite already has an \"ExpectationConfiguration\"\n",
      " |              object, matching the specified criteria, and thus whether we should add or replace (i.e., \"upsert\").\n",
      " |          overwrite_existing: If \"ExpectationConfiguration\" already exists, this will cause it to be overwritten if\n",
      " |              True and raise an error if False.\n",
      " |\n",
      " |      Returns:\n",
      " |          The List of \"ExpectationConfiguration\" objects attempted to be added or replaced (can differ from the list\n",
      " |          of \"ExpectationConfiguration\" objects in \"self.expectations\" at the completion of this method's execution).\n",
      " |\n",
      " |      Raises:\n",
      " |          More than one match\n",
      " |          One match if overwrite_existing = False\n",
      " |\n",
      " |  delete_expectation(self, expectation: 'Expectation') -> 'Expectation'\n",
      " |      --Public API--Delete an Expectation from the collection.\n",
      " |\n",
      " |      Example:\n",
      " |          >>> suite.delete_expectation(suite.expectations[0])\n",
      " |\n",
      " |      Raises:\n",
      " |          KeyError: Expectation not found in suite.\n",
      " |\n",
      " |  identifier_bundle(self) -> '_IdentifierBundle'\n",
      " |\n",
      " |  is_fresh(self) -> 'ExpectationSuiteFreshnessDiagnostics'\n",
      " |\n",
      " |  remove_expectation(self, expectation_configuration: 'Optional[ExpectationConfiguration]' = None, match_type: 'str' = 'domain', remove_multiple_matches: 'bool' = False, id: 'Optional[Union[str, uuid.UUID]]' = None) -> 'List[ExpectationConfiguration]'\n",
      " |      Remove an ExpectationConfiguration from the ExpectationSuite.\n",
      " |\n",
      " |      Args:\n",
      " |          expectation_configuration: A potentially incomplete (partial) Expectation Configuration to match against.\n",
      " |          match_type: This determines what kwargs to use when matching. Options are 'domain' to match based\n",
      " |              on the data evaluated by that expectation, 'success' to match based on all configuration parameters\n",
      " |              that influence whether an expectation succeeds based on a given batch of data, and 'runtime' to match\n",
      " |              based on all configuration parameters.\n",
      " |          remove_multiple_matches: If True, will remove multiple matching expectations.\n",
      " |          id: Great Expectations Cloud id for an Expectation.\n",
      " |\n",
      " |      Returns:\n",
      " |          The list of deleted ExpectationConfigurations.\n",
      " |\n",
      " |      Raises:\n",
      " |          TypeError: Must provide either expectation_configuration or id.\n",
      " |          ValueError: No match or multiple matches found (and remove_multiple_matches=False).\n",
      " |\n",
      " |  render(self) -> 'None'\n",
      " |      Renders content using the atomic prescriptive renderer for each expectation configuration associated with\n",
      " |         this ExpectationSuite to ExpectationConfiguration.rendered_content.\n",
      " |\n",
      " |  save(self) -> 'None'\n",
      " |      --Public API--Save this ExpectationSuite.\n",
      " |\n",
      " |  to_json_dict(self) -> 'Dict[str, JSONValues]'\n",
      " |      --Public API--Returns a JSON-serializable dict representation of this ExpectationSuite.\n",
      " |\n",
      " |      Returns:\n",
      " |          A JSON-serializable dict representation of this ExpectationSuite.\n",
      " |\n",
      " |  ----------------------------------------------------------------------\n",
      " |  Readonly properties defined here:\n",
      " |\n",
      " |  suite_parameter_options\n",
      " |      SuiteParameter options for this ExpectationSuite.\n",
      " |\n",
      " |      Returns:\n",
      " |          tuple[str, ...]: The keys of the suite parameters used by all Expectations of this suite at runtime.\n",
      " |\n",
      " |  ----------------------------------------------------------------------\n",
      " |  Data descriptors defined here:\n",
      " |\n",
      " |  expectation_configurations\n",
      " |\n",
      " |  ----------------------------------------------------------------------\n",
      " |  Data and other attributes defined here:\n",
      " |\n",
      " |  __annotations__ = {}\n",
      " |\n",
      " |  __hash__ = None\n",
      " |\n",
      " |  ----------------------------------------------------------------------\n",
      " |  Methods inherited from great_expectations.types.DictDot:\n",
      " |\n",
      " |  __contains__(self, key)\n",
      " |\n",
      " |  __delitem__(self, key) -> None\n",
      " |\n",
      " |  __getitem__(self, item)\n",
      " |\n",
      " |  __len__(self)\n",
      " |\n",
      " |  __setitem__(self, key, value) -> None\n",
      " |\n",
      " |  get(self, key, default_value=None)\n",
      " |\n",
      " |  items(self)\n",
      " |\n",
      " |  keys(self)\n",
      " |\n",
      " |  property_names(self, include_keys: Optional[Set[str]] = None, exclude_keys: Optional[Set[str]] = None) -> Set[str]\n",
      " |      Assuming that -- by convention -- names of private properties of an object are prefixed by \"_\" (a single\n",
      " |      underscore character), return these property names as public property names.  To support this convention, the\n",
      " |      extending classes must implement property accessors, corresponding to the property names, return by this method.\n",
      " |\n",
      " |      :param include_keys: inclusion list (\"include only these properties, while excluding all the rest\")\n",
      " |      :param exclude_keys: exclusion list (\"exclude only these properties, while include all the rest\")\n",
      " |      :return: property names, subject to inclusion/exclusion filtering\n",
      " |\n",
      " |  to_dict(self) -> dict\n",
      " |\n",
      " |  to_raw_dict(self) -> dict\n",
      " |      Convert this object into a standard dictionary, recursively.\n",
      " |\n",
      " |      This is often convenient for serialization, and in cases where an untyped version of the object is required.\n",
      " |\n",
      " |  values(self)\n",
      " |\n",
      " |  ----------------------------------------------------------------------\n",
      " |  Data descriptors inherited from great_expectations.types.DictDot:\n",
      " |\n",
      " |  __dict__\n",
      " |      dictionary for instance variables\n",
      " |\n",
      " |  __weakref__\n",
      " |      list of weak references to the object\n",
      " |\n",
      " |  ----------------------------------------------------------------------\n",
      " |  Data and other attributes inherited from great_expectations.types.DictDot:\n",
      " |\n",
      " |  exclude_field_names = set()\n",
      " |\n",
      " |  include_field_names = set()\n",
      "\n"
     ]
    }
   ],
   "source": [
    "help(ExpectationSuite)"
   ]
  },
  {
   "cell_type": "code",
   "execution_count": 14,
   "id": "acc70173-5943-4021-adb3-99c9d4969866",
   "metadata": {},
   "outputs": [
    {
     "name": "stdout",
     "output_type": "stream",
     "text": [
      "Help on function add_expectation in module great_expectations.core.expectation_suite:\n",
      "\n",
      "add_expectation(self, expectation: '_TExpectation') -> '_TExpectation'\n",
      "    --Public API--Add an Expectation to the collection.\n",
      "\n"
     ]
    }
   ],
   "source": [
    "help(ExpectationSuite.add_expectation)"
   ]
  },
  {
   "cell_type": "code",
   "execution_count": 15,
   "id": "c2d219f9-c358-47dc-bcef-b22982e63017",
   "metadata": {},
   "outputs": [],
   "source": [
    "context = gx.get_context()"
   ]
  },
  {
   "cell_type": "code",
   "execution_count": 16,
   "id": "60e9ef42-b41b-4333-ade3-036eceb5eb0f",
   "metadata": {},
   "outputs": [
    {
     "name": "stdout",
     "output_type": "stream",
     "text": [
      "{\n",
      "  \"checkpoint_store_name\": \"checkpoint_store\",\n",
      "  \"config_version\": 4,\n",
      "  \"data_docs_sites\": {\n",
      "    \"local_site\": {\n",
      "      \"class_name\": \"SiteBuilder\",\n",
      "      \"show_how_to_buttons\": true,\n",
      "      \"store_backend\": {\n",
      "        \"class_name\": \"TupleFilesystemStoreBackend\",\n",
      "        \"base_directory\": \"/tmp/tmpday0okev\"\n",
      "      },\n",
      "      \"site_index_builder\": {\n",
      "        \"class_name\": \"DefaultSiteIndexBuilder\"\n",
      "      }\n",
      "    }\n",
      "  },\n",
      "  \"expectations_store_name\": \"expectations_store\",\n",
      "  \"fluent_datasources\": {},\n",
      "  \"stores\": {\n",
      "    \"expectations_store\": {\n",
      "      \"class_name\": \"ExpectationsStore\",\n",
      "      \"store_backend\": {\n",
      "        \"class_name\": \"InMemoryStoreBackend\"\n",
      "      }\n",
      "    },\n",
      "    \"validation_results_store\": {\n",
      "      \"class_name\": \"ValidationResultsStore\",\n",
      "      \"store_backend\": {\n",
      "        \"class_name\": \"InMemoryStoreBackend\"\n",
      "      }\n",
      "    },\n",
      "    \"checkpoint_store\": {\n",
      "      \"class_name\": \"CheckpointStore\",\n",
      "      \"store_backend\": {\n",
      "        \"class_name\": \"InMemoryStoreBackend\"\n",
      "      }\n",
      "    },\n",
      "    \"validation_definition_store\": {\n",
      "      \"class_name\": \"ValidationDefinitionStore\",\n",
      "      \"store_backend\": {\n",
      "        \"class_name\": \"InMemoryStoreBackend\"\n",
      "      }\n",
      "    }\n",
      "  },\n",
      "  \"validation_results_store_name\": \"validation_results_store\"\n",
      "}\n"
     ]
    }
   ],
   "source": [
    "print(context)"
   ]
  },
  {
   "cell_type": "code",
   "execution_count": 17,
   "id": "4ca2ce61-cbaa-4763-b1d5-c5d335cab16e",
   "metadata": {},
   "outputs": [],
   "source": [
    "json_file_path=\"/home/vkurella9/ge_cust_data_expectations.json\""
   ]
  },
  {
   "cell_type": "code",
   "execution_count": 18,
   "id": "7fdae5c7-d571-4c91-bc77-e85b92a404d8",
   "metadata": {},
   "outputs": [],
   "source": [
    "with open(json_file_path, 'r') as json_file:\n",
    "            suite_data = json.load(json_file)"
   ]
  },
  {
   "cell_type": "code",
   "execution_count": 19,
   "id": "d4f02162-a5b5-403a-bb64-2a191209f3a4",
   "metadata": {},
   "outputs": [],
   "source": [
    "suite_name = suite_data.get(\"expectation_suite_name\")"
   ]
  },
  {
   "cell_type": "code",
   "execution_count": 20,
   "id": "dca3578c-4aa3-4a99-b3da-2fd6a49a0d69",
   "metadata": {},
   "outputs": [
    {
     "name": "stdout",
     "output_type": "stream",
     "text": [
      "cust_data_suite\n"
     ]
    }
   ],
   "source": [
    "print(suite_name)"
   ]
  },
  {
   "cell_type": "code",
   "execution_count": 21,
   "id": "c9a99872-5b32-4587-a177-df371639f9ce",
   "metadata": {},
   "outputs": [],
   "source": [
    "expectations_list = suite_data.get(\"expectations\", [])"
   ]
  },
  {
   "cell_type": "code",
   "execution_count": 22,
   "id": "40a9f385-fd37-47eb-b6a2-bc6c5200e746",
   "metadata": {},
   "outputs": [
    {
     "name": "stdout",
     "output_type": "stream",
     "text": [
      "Found suite name: 'cust_data_suite'\n"
     ]
    }
   ],
   "source": [
    "if not suite_name:\n",
    "    print(\"Error: The JSON file must contain an 'expectation_suite_name' field.\")\n",
    "else:\n",
    "    print(f\"Found suite name: '{suite_name}'\")"
   ]
  },
  {
   "cell_type": "code",
   "execution_count": 23,
   "id": "6f58c29a-8906-4b25-b282-9649fdb4ad92",
   "metadata": {},
   "outputs": [
    {
     "name": "stdout",
     "output_type": "stream",
     "text": [
      "ExpectationSuite object 'cust_data_suite' created directly.\n"
     ]
    }
   ],
   "source": [
    "suite = ExpectationSuite(suite_name)\n",
    "print(f\"ExpectationSuite object '{suite_name}' created directly.\")"
   ]
  },
  {
   "cell_type": "code",
   "execution_count": 31,
   "id": "41d34781-2bcd-4944-bd6d-11a8659d9cbc",
   "metadata": {},
   "outputs": [
    {
     "name": "stdout",
     "output_type": "stream",
     "text": [
      "{\n",
      "  \"name\": \"cust_data_suite\",\n",
      "  \"id\": null,\n",
      "  \"expectations\": [\n",
      "    {\n",
      "      \"type\": \"expect_column_to_exist\",\n",
      "      \"kwargs\": {\n",
      "        \"column\": \"age\"\n",
      "      },\n",
      "      \"meta\": {}\n",
      "    },\n",
      "    {\n",
      "      \"type\": \"expect_column_values_to_be_between\",\n",
      "      \"kwargs\": {\n",
      "        \"column\": \"age\",\n",
      "        \"min_value\": 18.0,\n",
      "        \"max_value\": 75.0\n",
      "      },\n",
      "      \"meta\": {}\n",
      "    },\n",
      "    {\n",
      "      \"type\": \"expect_column_values_to_not_be_null\",\n",
      "      \"kwargs\": {\n",
      "        \"column\": \"name\"\n",
      "      },\n",
      "      \"meta\": {}\n",
      "    },\n",
      "    {\n",
      "      \"type\": \"expect_table_row_count_to_be_between\",\n",
      "      \"kwargs\": {\n",
      "        \"min_value\": 10,\n",
      "        \"max_value\": 1000\n",
      "      },\n",
      "      \"meta\": {}\n",
      "    }\n",
      "  ],\n",
      "  \"meta\": {\n",
      "    \"great_expectations_version\": \"1.3.14\"\n",
      "  },\n",
      "  \"notes\": null\n",
      "}\n"
     ]
    }
   ],
   "source": [
    "print(suite)"
   ]
  },
  {
   "cell_type": "code",
   "execution_count": 26,
   "id": "43e3df98-a06a-464b-9012-2e300867b620",
   "metadata": {},
   "outputs": [
    {
     "name": "stdout",
     "output_type": "stream",
     "text": [
      "{'type': 'expect_column_to_exist', 'kwargs': {'column': 'age'}}\n",
      "{'type': 'expect_column_values_to_be_between', 'kwargs': {'column': 'age', 'min_value': 18, 'max_value': 75}}\n",
      "{'type': 'expect_column_values_to_not_be_null', 'kwargs': {'column': 'name'}}\n",
      "{'type': 'expect_table_row_count_to_be_between', 'kwargs': {'min_value': 10, 'max_value': 1000}}\n"
     ]
    }
   ],
   "source": [
    "for exp_config_dict in expectations_list:\n",
    "    print(exp_config_dict)"
   ]
  },
  {
   "cell_type": "code",
   "execution_count": 27,
   "id": "2e8be933-59eb-403e-ba57-9b213921023b",
   "metadata": {},
   "outputs": [
    {
     "name": "stdout",
     "output_type": "stream",
     "text": [
      "{'type': 'expect_column_to_exist', 'kwargs': {'column': 'age'}}\n",
      "{'type': 'expect_column_values_to_be_between', 'kwargs': {'column': 'age', 'min_value': 18, 'max_value': 75}}\n",
      "{'type': 'expect_column_values_to_not_be_null', 'kwargs': {'column': 'name'}}\n",
      "{'type': 'expect_table_row_count_to_be_between', 'kwargs': {'min_value': 10, 'max_value': 1000}}\n"
     ]
    }
   ],
   "source": [
    "for exp_config_dict in expectations_list:\n",
    "    print(exp_config_dict)"
   ]
  },
  {
   "cell_type": "code",
   "execution_count": 28,
   "id": "f2d4bdbb-ce67-45fe-a52a-25fa1231638c",
   "metadata": {},
   "outputs": [],
   "source": [
    "for exp_config_dict in expectations_list:\n",
    "    expectation = ExpectationConfiguration(\n",
    "    type=exp_config_dict[\"type\"],\n",
    "    kwargs=exp_config_dict[\"kwargs\"]\n",
    "    )\n",
    "    suite.add_expectation_configuration(expectation)"
   ]
  },
  {
   "cell_type": "code",
   "execution_count": 30,
   "id": "a02ebd25-9246-4434-bcd2-d023ca9d0fca",
   "metadata": {},
   "outputs": [
    {
     "name": "stdout",
     "output_type": "stream",
     "text": [
      "{\n",
      "  \"name\": \"cust_data_suite\",\n",
      "  \"id\": null,\n",
      "  \"expectations\": [\n",
      "    {\n",
      "      \"type\": \"expect_column_to_exist\",\n",
      "      \"kwargs\": {\n",
      "        \"column\": \"age\"\n",
      "      },\n",
      "      \"meta\": {}\n",
      "    },\n",
      "    {\n",
      "      \"type\": \"expect_column_values_to_be_between\",\n",
      "      \"kwargs\": {\n",
      "        \"column\": \"age\",\n",
      "        \"min_value\": 18.0,\n",
      "        \"max_value\": 75.0\n",
      "      },\n",
      "      \"meta\": {}\n",
      "    },\n",
      "    {\n",
      "      \"type\": \"expect_column_values_to_not_be_null\",\n",
      "      \"kwargs\": {\n",
      "        \"column\": \"name\"\n",
      "      },\n",
      "      \"meta\": {}\n",
      "    },\n",
      "    {\n",
      "      \"type\": \"expect_table_row_count_to_be_between\",\n",
      "      \"kwargs\": {\n",
      "        \"min_value\": 10,\n",
      "        \"max_value\": 1000\n",
      "      },\n",
      "      \"meta\": {}\n",
      "    }\n",
      "  ],\n",
      "  \"meta\": {\n",
      "    \"great_expectations_version\": \"1.3.14\"\n",
      "  },\n",
      "  \"notes\": null\n",
      "}\n"
     ]
    }
   ],
   "source": [
    "print(suite)"
   ]
  },
  {
   "cell_type": "code",
   "execution_count": 32,
   "id": "fd2ceb71-682e-4e54-acad-126a5d916819",
   "metadata": {},
   "outputs": [
    {
     "ename": "AttributeError",
     "evalue": "'EphemeralDataContext' object has no attribute 'save_expectation_suite'",
     "output_type": "error",
     "traceback": [
      "\u001b[31m---------------------------------------------------------------------------\u001b[39m",
      "\u001b[31mAttributeError\u001b[39m                            Traceback (most recent call last)",
      "\u001b[36mCell\u001b[39m\u001b[36m \u001b[39m\u001b[32mIn[32]\u001b[39m\u001b[32m, line 1\u001b[39m\n\u001b[32m----> \u001b[39m\u001b[32m1\u001b[39m \u001b[43mcontext\u001b[49m\u001b[43m.\u001b[49m\u001b[43msave_expectation_suite\u001b[49m(suite)\n",
      "\u001b[31mAttributeError\u001b[39m: 'EphemeralDataContext' object has no attribute 'save_expectation_suite'"
     ]
    }
   ],
   "source": [
    "context.save_expectation_suite(suite)"
   ]
  },
  {
   "cell_type": "code",
   "execution_count": 93,
   "id": "2a900cfb-8925-487e-96c7-256ef844f2e3",
   "metadata": {},
   "outputs": [],
   "source": [
    "from great_expectations.expectations.expectation_configuration import ExpectationConfiguration"
   ]
  },
  {
   "cell_type": "code",
   "execution_count": 95,
   "id": "33ddc728-7744-462f-8350-29a21c3c9f0e",
   "metadata": {},
   "outputs": [],
   "source": [
    "from great_expectations.expectations.expectation_configuration import ExpectationConfiguration\n",
    "import great_expectations as gx\n",
    "\n",
    "# Step 1: Get context\n",
    "context = gx.get_context()\n",
    "\n",
    "# Step 2: Get or create suite\n",
    "suite_name = \"my_sample_suite\"\n",
    "suite = ExpectationSuite(suite_name)"
   ]
  },
  {
   "cell_type": "code",
   "execution_count": 97,
   "id": "0d76cd7b-1131-40e3-bef6-1c3b87a9fdb2",
   "metadata": {},
   "outputs": [
    {
     "name": "stdout",
     "output_type": "stream",
     "text": [
      "<class 'great_expectations.core.expectation_suite.ExpectationSuite'>\n"
     ]
    }
   ],
   "source": [
    "print(type(suite))"
   ]
  },
  {
   "cell_type": "code",
   "execution_count": 98,
   "id": "a0f192e0-950d-47f2-a4b1-b44a07b6b512",
   "metadata": {},
   "outputs": [],
   "source": [
    "expectation = ExpectationConfiguration(\n",
    "    type=\"expect_column_values_to_not_be_null\",\n",
    "    kwargs={\"column\": \"cust_id\"},\n",
    "    meta={\"description\": \"user_id must not be null\"}\n",
    ")"
   ]
  },
  {
   "cell_type": "code",
   "execution_count": 99,
   "id": "f467a470-a923-4f18-aa7c-8b9a6fbc9ae0",
   "metadata": {},
   "outputs": [
    {
     "data": {
      "text/plain": [
       "{\"type\": \"expect_column_values_to_not_be_null\", \"kwargs\": {\"column\": \"user_id\"}, \"meta\": {\"description\": \"user_id must not be null\"}}"
      ]
     },
     "execution_count": 99,
     "metadata": {},
     "output_type": "execute_result"
    }
   ],
   "source": [
    "suite.add_expectation_configuration(expectation)"
   ]
  },
  {
   "cell_type": "code",
   "execution_count": 100,
   "id": "979f8562-40ba-430c-8efa-af067d2e141e",
   "metadata": {},
   "outputs": [
    {
     "name": "stdout",
     "output_type": "stream",
     "text": [
      "{\n",
      "  \"name\": \"my_sample_suite\",\n",
      "  \"id\": null,\n",
      "  \"expectations\": [\n",
      "    {\n",
      "      \"type\": \"expect_column_values_to_not_be_null\",\n",
      "      \"kwargs\": {\n",
      "        \"column\": \"user_id\"\n",
      "      },\n",
      "      \"meta\": {\n",
      "        \"description\": \"user_id must not be null\"\n",
      "      }\n",
      "    }\n",
      "  ],\n",
      "  \"meta\": {\n",
      "    \"great_expectations_version\": \"1.3.14\"\n",
      "  },\n",
      "  \"notes\": null\n",
      "}\n"
     ]
    }
   ],
   "source": [
    "print(suite)"
   ]
  },
  {
   "cell_type": "code",
   "execution_count": 101,
   "id": "f866acae-d2cd-4815-b1bc-c440bdf68306",
   "metadata": {},
   "outputs": [],
   "source": [
    "expectation = ExpectationConfiguration(\n",
    "    type=\"expect_column_values_to_not_be_null\",\n",
    "    kwargs={\"column\": \"cust_id\"}\n",
    ")"
   ]
  },
  {
   "cell_type": "code",
   "execution_count": 102,
   "id": "34e3e5b6-956c-4940-9666-2413b8b17557",
   "metadata": {},
   "outputs": [
    {
     "data": {
      "text/plain": [
       "{\"type\": \"expect_column_values_to_not_be_null\", \"kwargs\": {\"column\": \"cust_id\"}, \"meta\": {}}"
      ]
     },
     "execution_count": 102,
     "metadata": {},
     "output_type": "execute_result"
    }
   ],
   "source": [
    "suite.add_expectation_configuration(expectation)"
   ]
  },
  {
   "cell_type": "code",
   "execution_count": 103,
   "id": "a7d14a7e-0445-4b66-81af-4fb64f093b73",
   "metadata": {},
   "outputs": [
    {
     "name": "stdout",
     "output_type": "stream",
     "text": [
      "{\n",
      "  \"name\": \"my_sample_suite\",\n",
      "  \"id\": null,\n",
      "  \"expectations\": [\n",
      "    {\n",
      "      \"type\": \"expect_column_values_to_not_be_null\",\n",
      "      \"kwargs\": {\n",
      "        \"column\": \"user_id\"\n",
      "      },\n",
      "      \"meta\": {\n",
      "        \"description\": \"user_id must not be null\"\n",
      "      }\n",
      "    },\n",
      "    {\n",
      "      \"type\": \"expect_column_values_to_not_be_null\",\n",
      "      \"kwargs\": {\n",
      "        \"column\": \"cust_id\"\n",
      "      },\n",
      "      \"meta\": {}\n",
      "    }\n",
      "  ],\n",
      "  \"meta\": {\n",
      "    \"great_expectations_version\": \"1.3.14\"\n",
      "  },\n",
      "  \"notes\": null\n",
      "}\n"
     ]
    }
   ],
   "source": [
    "print(suite)"
   ]
  },
  {
   "cell_type": "code",
   "execution_count": 105,
   "id": "f11541d8-76d8-485c-965e-efe5e4e9c947",
   "metadata": {},
   "outputs": [],
   "source": [
    "expectation = ExpectationConfiguration(\n",
    "    type=\"expect_column_values_to_not_be_null\",\n",
    "    kwargs={\"column\": \"dest_id\"}\n",
    ")"
   ]
  },
  {
   "cell_type": "code",
   "execution_count": 106,
   "id": "7696e499-7a6c-40de-af3b-26a212d43792",
   "metadata": {},
   "outputs": [
    {
     "data": {
      "text/plain": [
       "{\"type\": \"expect_column_values_to_not_be_null\", \"kwargs\": {\"column\": \"dest_id\"}, \"meta\": {}}"
      ]
     },
     "execution_count": 106,
     "metadata": {},
     "output_type": "execute_result"
    }
   ],
   "source": [
    "suite.add_expectation_configuration(expectation)"
   ]
  },
  {
   "cell_type": "code",
   "execution_count": 107,
   "id": "854c610c-ab91-444c-8b71-f861567c1e5c",
   "metadata": {},
   "outputs": [
    {
     "name": "stdout",
     "output_type": "stream",
     "text": [
      "{\n",
      "  \"name\": \"my_sample_suite\",\n",
      "  \"id\": null,\n",
      "  \"expectations\": [\n",
      "    {\n",
      "      \"type\": \"expect_column_values_to_not_be_null\",\n",
      "      \"kwargs\": {\n",
      "        \"column\": \"user_id\"\n",
      "      },\n",
      "      \"meta\": {\n",
      "        \"description\": \"user_id must not be null\"\n",
      "      }\n",
      "    },\n",
      "    {\n",
      "      \"type\": \"expect_column_values_to_not_be_null\",\n",
      "      \"kwargs\": {\n",
      "        \"column\": \"cust_id\"\n",
      "      },\n",
      "      \"meta\": {}\n",
      "    },\n",
      "    {\n",
      "      \"type\": \"expect_column_values_to_not_be_null\",\n",
      "      \"kwargs\": {\n",
      "        \"column\": \"dest_id\"\n",
      "      },\n",
      "      \"meta\": {}\n",
      "    }\n",
      "  ],\n",
      "  \"meta\": {\n",
      "    \"great_expectations_version\": \"1.3.14\"\n",
      "  },\n",
      "  \"notes\": null\n",
      "}\n"
     ]
    }
   ],
   "source": [
    "print(suite)"
   ]
  },
  {
   "cell_type": "code",
   "execution_count": 135,
   "id": "cfeae0e7-55dd-4422-a55f-ff804124c22c",
   "metadata": {},
   "outputs": [],
   "source": [
    "person = {\n",
    "    \"name\": \"Alice\",\n",
    "    \"age\": 30,\n",
    "    \"city\": \"New York\"\n",
    "}"
   ]
  },
  {
   "cell_type": "code",
   "execution_count": 136,
   "id": "294acc3f-e6be-438f-9205-f143ef68bc52",
   "metadata": {},
   "outputs": [
    {
     "name": "stdout",
     "output_type": "stream",
     "text": [
      "Alice\n"
     ]
    }
   ],
   "source": [
    "print(person[\"name\"])"
   ]
  },
  {
   "cell_type": "code",
   "execution_count": 137,
   "id": "34689f55-e2f9-4cf8-8b16-e0f1840c7cce",
   "metadata": {},
   "outputs": [],
   "source": [
    "expectation = {\n",
    "            \"type\": \"expect_column_to_exist\",\n",
    "            \"kwargs\": {\n",
    "                \"column\": \"age\"\n",
    "            }\n",
    "        }"
   ]
  },
  {
   "cell_type": "code",
   "execution_count": 139,
   "id": "0401066c-628e-404e-9065-42361879f9ae",
   "metadata": {},
   "outputs": [
    {
     "name": "stdout",
     "output_type": "stream",
     "text": [
      "expect_column_to_exist\n"
     ]
    }
   ],
   "source": [
    "print(expectation[\"type\"])"
   ]
  },
  {
   "cell_type": "code",
   "execution_count": 142,
   "id": "b902e38e-f41a-4c9f-a9eb-2e328b6f760c",
   "metadata": {},
   "outputs": [
    {
     "name": "stdout",
     "output_type": "stream",
     "text": [
      "<class 'str'>\n"
     ]
    }
   ],
   "source": [
    "print(type(expectation[\"type\"]))"
   ]
  },
  {
   "cell_type": "code",
   "execution_count": 140,
   "id": "7da94c84-1675-44ae-94dc-ca075b39ad78",
   "metadata": {},
   "outputs": [
    {
     "name": "stdout",
     "output_type": "stream",
     "text": [
      "{'column': 'age'}\n"
     ]
    }
   ],
   "source": [
    "print(expectation[\"kwargs\"])"
   ]
  },
  {
   "cell_type": "code",
   "execution_count": 141,
   "id": "9f61c44c-28ef-4814-81fe-7cf3d3b94914",
   "metadata": {},
   "outputs": [
    {
     "name": "stdout",
     "output_type": "stream",
     "text": [
      "<class 'dict'>\n"
     ]
    }
   ],
   "source": [
    "print(type(expectation[\"kwargs\"]))"
   ]
  },
  {
   "cell_type": "code",
   "execution_count": null,
   "id": "d45e5ff1-8a4f-4071-aa2c-fb53e4007056",
   "metadata": {},
   "outputs": [],
   "source": []
  }
 ],
 "metadata": {
  "kernelspec": {
   "display_name": "Python 3 (ipykernel)",
   "language": "python",
   "name": "python3"
  },
  "language_info": {
   "codemirror_mode": {
    "name": "ipython",
    "version": 3
   },
   "file_extension": ".py",
   "mimetype": "text/x-python",
   "name": "python",
   "nbconvert_exporter": "python",
   "pygments_lexer": "ipython3",
   "version": "3.12.3"
  }
 },
 "nbformat": 4,
 "nbformat_minor": 5
}
